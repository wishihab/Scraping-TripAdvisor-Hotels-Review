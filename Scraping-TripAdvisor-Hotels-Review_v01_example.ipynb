{
 "cells": [
  {
   "cell_type": "code",
   "execution_count": 1,
   "metadata": {},
   "outputs": [],
   "source": [
    "import requests\n",
    "from bs4 import BeautifulSoup as soup"
   ]
  },
  {
   "cell_type": "code",
   "execution_count": 2,
   "metadata": {},
   "outputs": [],
   "source": [
    "links = [\n",
    "        'https://www.tripadvisor.com/Hotel_Review-g294229-d5992269-Reviews-ARTOTEL_Thamrin_Jakarta-Jakarta_Java.html#REVIEWS'\n",
    "        ]"
   ]
  },
  {
   "cell_type": "code",
   "execution_count": 3,
   "metadata": {},
   "outputs": [
    {
     "name": "stdout",
     "output_type": "stream",
     "text": [
      "\"Beautifully decorated hotel in the heart of Menteng near to many malls and food places. The price is excellent for a quick stay anytime. The Dulce Gusto machine in the rooms is a thumbs up! Each floor is decorated by a different artist too!\",\n",
      "\"It was my 2nd time here and one of my favourite place to stay.  Friendly staff, lovely hotel design and a nice rooftop bar. The only negative point i have is the room is a bit dark ! other then that i really enjoy my staff here !\",\n",
      "\"Artotel is just like its name. The room interior is minimalist, industrial type and full of art. Very nice, cozy, and suitable for honeymoon, babymoon or staycation with family. The location is also strategic, it's across Sarinah Thamrin, near Jl. Sabang. The neighbourhood is full of restaurant, there's Hongkong Cafe, Bakmi GM, Total Fruit Store, and Pisa Cafe. You can just walk to reach there. And if you stay on the weekend, you can easily join the car free day every Sunday morning.\",\n",
      "\"I knew Artotel for its artsy experience as well as good hospitality for a competitive price.  For the record, this is a long due review. Hopefully things already better now.  First of all, it is a common understanding that check-in time is at 2 PM or the latest by 3 PM. By the time I arrived at 4 PM, surprisingly receptionist informed me that the room wasn't ready.  Another note on the reception staff, I was not being greeted like any normal hotel staffs would do when guests arriving at the premise. Maybe he was tired, no smile at all.  Fortunately, it didn't take a long wait for us to check-in into our room.  When I entered the room. It was okay, but the cleaning wasn't thorough. I spotted several area covered in dust a bit and a bit of litter around table near the window.\",\n",
      "\"It was my second visit (the first one was in late May 2018). I booked the Studio 20 unit for a night, just like my first visit. However, this time I asked for a room with a double bed instead of twin beds. The interior was, as expected, artsy and funky. The furniture items were great and the working chair made a twist to my visit (due to its shape, I thought the chair was broken but it was just the structure). Having a room on the 6th floor, I could enjoy a better view this time. However, TV channels disappeared a couple of times and I had to turn the TV off to get them back. The bathroom was just fine. No objection.   The check-in process was quick and easy. Staff members were helpful, especially the front-liners. I also visited BART to have some drinks and this time, the staff\",\n"
     ]
    }
   ],
   "source": [
    "from random import randint\n",
    "from time import sleep\n",
    "\n",
    "reviews = []\n",
    "\n",
    "for link in links:\n",
    "    headers = {'User-Agent':'Mozilla/5.0 (Windows NT 10.0; WOW64) AppleWebKit/537.36 (KHTML, like Gecko) Chrome/83.0.4103.97 Safari/537.36'}\n",
    "    html2 = requests.get(link.format(i for i in range(5,1000,5)),headers=headers)\n",
    "    sleep(randint(1,5))\n",
    "    bsobj2 = soup(html2.content,'lxml')\n",
    "    for r in bsobj2.findAll('q'):\n",
    "        reviews.append(r.span.text.strip())\n",
    "        print('\"' + r.span.text.strip() + '\",')"
   ]
  },
  {
   "cell_type": "code",
   "execution_count": null,
   "metadata": {},
   "outputs": [],
   "source": []
  }
 ],
 "metadata": {
  "kernelspec": {
   "display_name": "Python 3",
   "language": "python",
   "name": "python3"
  },
  "language_info": {
   "codemirror_mode": {
    "name": "ipython",
    "version": 3
   },
   "file_extension": ".py",
   "mimetype": "text/x-python",
   "name": "python",
   "nbconvert_exporter": "python",
   "pygments_lexer": "ipython3",
   "version": "3.8.5"
  }
 },
 "nbformat": 4,
 "nbformat_minor": 4
}
